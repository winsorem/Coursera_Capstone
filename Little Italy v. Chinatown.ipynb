{
    "nbformat_minor": 1, 
    "cells": [
        {
            "source": "# 1. Introduction:\n\n## 1.1 Background:\nToronto and New York City are both highly populated North American cities. Historically, New York has dominated in terms of population. \nBoth cities have had many immigrants from both China and Italy, and both cities now have neighbourhoods where Chineses food or Italian food are the specialty. \n\n## 1.2 Problem:\nThis project will compare two neighbourhoods, Chinatown and Little Italy in Toronto and New York to determine how the Torontonian neighbourhoods compare to their \nNew York counterparts in terms of restaurants. \n\n## 1.3 Interest:\n\nThis may be of interest to people wanting to compare these neighbourhoods between cities.\n\n# 2. Data:\n\nI will need to leverage foursquare data from the two neighbourhoods in Toronto and in New York conscerning restaurant type, location, and number.\nFor example, I will need to find how many Italian restaurants are in little italy in Toronto and how many Italian restaurants are \nlocated in the Little italy neighbourhood in New York. I will then determine which city has a more restaurant filled neighbourhood.", 
            "cell_type": "markdown", 
            "metadata": {
                "collapsed": true
            }
        }, 
        {
            "source": "", 
            "cell_type": "code", 
            "metadata": {}, 
            "outputs": [], 
            "execution_count": null
        }
    ], 
    "metadata": {
        "kernelspec": {
            "display_name": "Python 3.5", 
            "name": "python3", 
            "language": "python"
        }, 
        "language_info": {
            "mimetype": "text/x-python", 
            "nbconvert_exporter": "python", 
            "version": "3.5.5", 
            "name": "python", 
            "pygments_lexer": "ipython3", 
            "file_extension": ".py", 
            "codemirror_mode": {
                "version": 3, 
                "name": "ipython"
            }
        }
    }, 
    "nbformat": 4
}